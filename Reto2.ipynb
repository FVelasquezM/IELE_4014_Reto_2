{
 "cells": [
  {
   "cell_type": "markdown",
   "metadata": {},
   "source": [
    "**IELE_4014**  \n",
    "**Felipe Velásquez Montoya**\n",
    "&nbsp;&nbsp;&nbsp;&nbsp; *cód estudiante:* 201632422\n",
    "# Reto 3\n",
    "Problema de regresión lineal para predecir la calidad del vino (https://archive.ics.uci.edu/ml/datasets/Wine+Quality) utilizando sklearn."
   ]
  },
  {
   "cell_type": "code",
   "execution_count": 1,
   "metadata": {},
   "outputs": [
    {
     "name": "stdout",
     "output_type": "stream",
     "text": [
      "Requirement already satisfied: sklearn in c:\\users\\f.velasquez\\appdata\\roaming\\python\\python37\\site-packages (0.0)\n",
      "Requirement already satisfied: scikit-learn in c:\\users\\f.velasquez\\appdata\\roaming\\python\\python37\\site-packages (from sklearn) (0.21.3)\n",
      "Requirement already satisfied: joblib>=0.11 in c:\\users\\f.velasquez\\appdata\\roaming\\python\\python37\\site-packages (from scikit-learn->sklearn) (0.13.2)\n",
      "Requirement already satisfied: numpy>=1.11.0 in c:\\users\\f.velasquez\\appdata\\roaming\\python\\python37\\site-packages (from scikit-learn->sklearn) (1.17.2)\n",
      "Requirement already satisfied: scipy>=0.17.0 in c:\\users\\f.velasquez\\appdata\\roaming\\python\\python37\\site-packages (from scikit-learn->sklearn) (1.3.1)\n",
      "Note: you may need to restart the kernel to use updated packages.\n",
      "Requirement already satisfied: numpy in c:\\users\\f.velasquez\\appdata\\roaming\\python\\python37\\site-packages (1.17.2)\n",
      "Note: you may need to restart the kernel to use updated packages.\n"
     ]
    }
   ],
   "source": [
    "%pip install --user sklearn\n",
    "%pip install --user numpy"
   ]
  },
  {
   "cell_type": "code",
   "execution_count": 2,
   "metadata": {},
   "outputs": [],
   "source": [
    "from sklearn.model_selection import train_test_split\n",
    "from sklearn.linear_model import LinearRegression\n",
    "import numpy as np"
   ]
  },
  {
   "cell_type": "markdown",
   "metadata": {},
   "source": [
    "# Solución del problema de regresión lineal\n",
    "Se realizará el ejercicio sobre el conjunto de datos de vinos blancos, pues el de vinos rojos no tiene suficientes datos para cumplir con los requerimientos del reto.   \n",
    "Se inicia cargando los datos del CSV:"
   ]
  },
  {
   "cell_type": "code",
   "execution_count": 3,
   "metadata": {},
   "outputs": [
    {
     "name": "stdout",
     "output_type": "stream",
     "text": [
      "Filas de la matriz: 4898\n",
      "Columnas de la matriz: 12\n"
     ]
    }
   ],
   "source": [
    "data_matrix = np.loadtxt(open(\"./WineQuality/winequality-white.csv\", \"rb\"), delimiter=\";\", skiprows=1)\n",
    "print(\"Filas de la matriz: \" + str(len(data_matrix)))\n",
    "print(\"Columnas de la matriz: \" + str(len(data_matrix[0])))\n",
    "\n",
    "X = np.resize(data_matrix, (len(data_matrix), len(data_matrix[0])-1))\n",
    "y = data_matrix[:,len(data_matrix[0])-1]"
   ]
  },
  {
   "cell_type": "markdown",
   "metadata": {},
   "source": [
    "A continuación, se usa el método *train_test_split* de sklearn para obtener el conjunto de datos de prueba y de entrenamiento."
   ]
  },
  {
   "cell_type": "code",
   "execution_count": 4,
   "metadata": {},
   "outputs": [
    {
     "name": "stdout",
     "output_type": "stream",
     "text": [
      "Tamaño X entrenamiento: 2898 | Tamaño y entrenamiento: 2898\n",
      "Tamaño X prueba: 2000 | Tamaño y prueba: 2000\n"
     ]
    }
   ],
   "source": [
    "X_train, X_test, y_train, y_test = train_test_split(X, y, test_size = 2000.00/float(len(X))) \n",
    "\n",
    "print(\"Tamaño X entrenamiento: %s | Tamaño y entrenamiento: %s\" % (len(X_train), len(y_train)))\n",
    "print(\"Tamaño X prueba: %s | Tamaño y prueba: %s\" % (len(X_test), len(y_test)))"
   ]
  },
  {
   "cell_type": "markdown",
   "metadata": {},
   "source": [
    "Ahora, los datos de entrenamiento son divididos una vez más en tres conjuntos de tamaño 100, 1000 y 2898 respectivamente."
   ]
  },
  {
   "cell_type": "code",
   "execution_count": 5,
   "metadata": {},
   "outputs": [
    {
     "name": "stdout",
     "output_type": "stream",
     "text": [
      "-----------------------------\n",
      "Set de entrenamiento 0\n",
      "    Tamaño X de entrenamiento: 100 | Tamaño y de entrenamiento: 100\n",
      "-----------------------------\n",
      "Set de entrenamiento 1\n",
      "    Tamaño X de entrenamiento: 1000 | Tamaño y de entrenamiento: 1000\n",
      "-----------------------------\n",
      "Set de entrenamiento 2\n",
      "    Tamaño X de entrenamiento: 2898 | Tamaño y de entrenamiento: 2898\n"
     ]
    }
   ],
   "source": [
    "sizes = [100.00, 1000.00, 2898]\n",
    "X_train_array = []\n",
    "y_train_array = []\n",
    "\n",
    "for i in range(0,2):\n",
    "    i = sizes[i]\n",
    "    Xy = train_test_split(X_train, y_train, test_size = 1.00 - i/float(len(X_train)))\n",
    "    X_train_array.append(Xy[0])\n",
    "    y_train_array.append(Xy[2])\n",
    "\n",
    "X_train_array.append(X_train)\n",
    "y_train_array.append(y_train)\n",
    "    \n",
    "#Verificar tamaños de los nuevos sets de entrenamiento\n",
    "for i in range(0, len(X_train_array)):\n",
    "    print(\"-----------------------------\")\n",
    "    print(\"Set de entrenamiento %s\" % i)\n",
    "    print(\"    Tamaño X de entrenamiento: %s | Tamaño y de entrenamiento: %s\" \n",
    "          % (len(X_train_array[i]), len(y_train_array[i])))"
   ]
  },
  {
   "cell_type": "markdown",
   "metadata": {},
   "source": [
    "A continuación, se entrena y mide el desempeño de cada uno de los modelos. Como puede observarse, el desempeño obtenido es pobre, siendo los R cuadrados de las regresiones alrededor de cero. debe recordase que dado que no se reservaron datos de validación, el desempeño no es comparable."
   ]
  },
  {
   "cell_type": "code",
   "execution_count": 6,
   "metadata": {},
   "outputs": [
    {
     "name": "stdout",
     "output_type": "stream",
     "text": [
      "El Modelo entrenado con 100.0 datos obtuvo un R cuadrado de -0.09652004648964498\n",
      "El Modelo entrenado con 1000.0 datos obtuvo un R cuadrado de -0.007407591007016823\n",
      "El Modelo entrenado con 2898 datos obtuvo un R cuadrado de 0.003814400736377177\n"
     ]
    }
   ],
   "source": [
    "linreg_array = []\n",
    "linreg_score = []\n",
    "\n",
    "for i in range(0, len(X_train_array)):\n",
    "    #Se entrena la regresión lineal con el conjunto de entrenamiento correspondiente.\n",
    "    linreg_array.append(LinearRegression().fit(X_train_array[i], y_train_array[i]))\n",
    "    \n",
    "    #Se prueba la regresión lineal con los conjuntos de prueba:\n",
    "    linreg_score.append(linreg_array[i].score(X_test, y_test))\n",
    "    \n",
    "    #Se imprimen los resultados del modelo\n",
    "    print(\"El Modelo entrenado con %s datos obtuvo un R cuadrado de %s\" % (sizes[i], linreg_score[i]))"
   ]
  },
  {
   "cell_type": "markdown",
   "metadata": {},
   "source": [
    "En vista del pobre desempeño obtenido, se intenta realizar la regresión lineal nuevamente pero, esta vez, estandarizando los datos."
   ]
  },
  {
   "cell_type": "code",
   "execution_count": 7,
   "metadata": {},
   "outputs": [
    {
     "name": "stdout",
     "output_type": "stream",
     "text": [
      "Filas de la matriz: 4898\n",
      "Columnas de la matriz: 12\n",
      "Tamaño X entrenamiento: 2898 | Tamaño y entrenamiento: 2898\n",
      "Tamaño X prueba: 2000 | Tamaño y prueba: 2000\n",
      "-----------------------------\n",
      "Set de entrenamiento 0\n",
      "    Tamaño X de entrenamiento: 100 | Tamaño y de entrenamiento: 100\n",
      "-----------------------------\n",
      "Set de entrenamiento 1\n",
      "    Tamaño X de entrenamiento: 1000 | Tamaño y de entrenamiento: 1000\n",
      "-----------------------------\n",
      "Set de entrenamiento 2\n",
      "    Tamaño X de entrenamiento: 2898 | Tamaño y de entrenamiento: 2898\n",
      "El Modelo entrenado con 100.0 datos obtuvo un R cuadrado de -0.1128898900633768\n",
      "El Modelo entrenado con 1000.0 datos obtuvo un R cuadrado de -0.011319203341130457\n",
      "El Modelo entrenado con 2898.0 datos obtuvo un R cuadrado de -0.0006492903627490776\n"
     ]
    }
   ],
   "source": [
    "from sklearn.preprocessing import MinMaxScaler\n",
    "\n",
    "data_matrix_norm = np.loadtxt(open(\"./WineQuality/winequality-white.csv\", \"rb\"), delimiter=\";\", skiprows=1)\n",
    "\n",
    "print(\"Filas de la matriz: \" + str(len(data_matrix_norm)))\n",
    "print(\"Columnas de la matriz: \" + str(len(data_matrix_norm[0])))\n",
    "\n",
    "X_norm = np.resize(data_matrix_norm, (len(data_matrix_norm), len(data_matrix_norm[0])-1))\n",
    "y_norm = data_matrix[:,len(data_matrix[0])-1]\n",
    "\n",
    "X_norm = MinMaxScaler().fit_transform(X_norm)\n",
    "\n",
    "y_norm= np.array([y_norm]).transpose()\n",
    "y_norm = MinMaxScaler().fit_transform(y_norm)\n",
    "\n",
    "X_train_norm, X_test_norm, y_train_norm, y_test_norm = train_test_split(X_norm, y_norm, test_size = 2000.00/float(len(X))) \n",
    "\n",
    "print(\"Tamaño X entrenamiento: %s | Tamaño y entrenamiento: %s\" % (len(X_train_norm), len(y_train_norm)))\n",
    "print(\"Tamaño X prueba: %s | Tamaño y prueba: %s\" % (len(X_test_norm), len(y_test_norm)))\n",
    "\n",
    "sizes_norm = [100.00, 1000.00, 2898.00]\n",
    "X_train_array_norm = []\n",
    "y_train_array_norm = []\n",
    "\n",
    "for i in range(0,2):\n",
    "    i = sizes_norm[i]\n",
    "    Xy_norm = train_test_split(X_train_norm, y_train_norm, test_size = 1.00 - i/float(len(X_train_norm)))\n",
    "    X_train_array_norm.append(Xy_norm[0])\n",
    "    y_train_array_norm.append(Xy_norm[2])\n",
    "    \n",
    "X_train_array_norm.append(X_train_norm)\n",
    "y_train_array_norm.append(y_train_norm)\n",
    "    \n",
    "#Verificar tamaños de los nuevos sets de entrenamiento\n",
    "for i in range(0, len(X_train_array_norm)):\n",
    "    print(\"-----------------------------\")\n",
    "    print(\"Set de entrenamiento %s\" % i)\n",
    "    print(\"    Tamaño X de entrenamiento: %s | Tamaño y de entrenamiento: %s\" \n",
    "          % (len(X_train_array_norm[i]), len(y_train_array_norm[i])))\n",
    "    \n",
    "linreg_array_norm = []\n",
    "linreg_score_norm = []\n",
    "\n",
    "for i in range(0, len(X_train_array_norm)):\n",
    "    \n",
    "    #Se entrena la regresión lineal con el conjunto de entrenamiento correspondiente.\n",
    "    linreg_array_norm.append(LinearRegression().fit(X_train_array_norm[i], y_train_array_norm[i]))\n",
    "    \n",
    "    #Se prueba la regresión lineal con los conjuntos de prueba:\n",
    "    linreg_score_norm.append(linreg_array_norm[i].score(X_test_norm, y_test_norm))\n",
    "    \n",
    "    #Se imprimen los resultados del modelo\n",
    "    print(\"El Modelo entrenado con %s datos obtuvo un R cuadrado de %s\" % (sizes_norm[i], linreg_score_norm[i]))"
   ]
  },
  {
   "cell_type": "markdown",
   "metadata": {},
   "source": [
    "Como puede observarse, incluso con la normalización, el desempeño de los modelos sigue siendo muy pobre. Se concluye, entonces, que el problema asignado no puede resolverse adecuadamente con un modelo lineal, es necesario explorar otras opciones."
   ]
  }
 ],
 "metadata": {
  "kernelspec": {
   "display_name": "Python 3",
   "language": "python",
   "name": "python3"
  },
  "language_info": {
   "codemirror_mode": {
    "name": "ipython",
    "version": 3
   },
   "file_extension": ".py",
   "mimetype": "text/x-python",
   "name": "python",
   "nbconvert_exporter": "python",
   "pygments_lexer": "ipython3",
   "version": "3.7.4"
  }
 },
 "nbformat": 4,
 "nbformat_minor": 4
}
